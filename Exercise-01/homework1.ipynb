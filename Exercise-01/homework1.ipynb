{
 "cells": [
  {
   "cell_type": "code",
   "execution_count": 1,
   "metadata": {},
   "outputs": [],
   "source": [
    "import numpy as np"
   ]
  },
  {
   "cell_type": "markdown",
   "metadata": {},
   "source": [
    "# Warmup"
   ]
  },
  {
   "cell_type": "markdown",
   "metadata": {},
   "source": [
    "To get familiar with $\\texttt{numpy}$ synthax we propose a few warm up exercises.\n",
    "Try to be as $\\texttt{python}$ic as possible when solving them: for each function, you should aim at $\\textbf{ one line long implementations}.$"
   ]
  },
  {
   "cell_type": "markdown",
   "metadata": {},
   "source": [
    "# Warmup 0"
   ]
  },
  {
   "cell_type": "markdown",
   "metadata": {},
   "source": [
    "Write function $\\texttt{rescale}$, which takes as input array $x \\in \\mathbb R ^ {N \\times M}$ and scalars $a<b \\in \\mathbb R$, and returns output array $y \\in \\mathbb [a,b] ^ {N \\times M} : y = (b-a) \\frac{(x - \\min x)}{\\max x - \\min x} + a  $  . "
   ]
  },
  {
   "cell_type": "code",
   "execution_count": 2,
   "metadata": {},
   "outputs": [],
   "source": [
    "def rescale(input,a,b):\n",
    "    return (b - a) * (x - x.min())/(x.max() - x.min()) + a"
   ]
  },
  {
   "cell_type": "markdown",
   "metadata": {},
   "source": [
    "Test your code:"
   ]
  },
  {
   "cell_type": "code",
   "execution_count": 3,
   "metadata": {},
   "outputs": [],
   "source": [
    "x = 2*np.random.rand(3,2) - 1\n",
    "a = 1\n",
    "b = 3\n",
    "y = rescale(x,a,b)\n",
    "\n",
    "print(\"Input:\")\n",
    "print(x)\n",
    "print(\"Output:\")\n",
    "print(y)\n",
    "print(\"in:\")\n",
    "print(a,b)\n",
    "\n",
    "assert(np.abs(np.min(y) - a) < 1e-6 )\n",
    "assert(np.abs(np.max(y) - b) < 1e-6 )"
   ]
  },
  {
   "cell_type": "markdown",
   "metadata": {},
   "source": [
    "# Warmup 1"
   ]
  },
  {
   "cell_type": "markdown",
   "metadata": {},
   "source": [
    "Write function $\\texttt{find_closest}$,  which given  scalar $u \\in \\mathbb R$ and input array $x \\in \\mathbb R ^ {N \\times M}$, returns the closest element to the scalar in the array $x_{i^*,j^*} : (i^*,j^*)=\\text{argmin}_{i,j} | x_{i,j} - u | $. "
   ]
  },
  {
   "cell_type": "code",
   "execution_count": 4,
   "metadata": {},
   "outputs": [],
   "source": [
    "def find_closest(x, u):\n",
    "    return x[np.argmin(abs((x - u)))]"
   ]
  },
  {
   "cell_type": "markdown",
   "metadata": {},
   "source": [
    "test your code:"
   ]
  },
  {
   "cell_type": "code",
   "execution_count": 5,
   "metadata": {},
   "outputs": [
    {
     "name": "stdout",
     "output_type": "stream",
     "text": [
      "Closest to u:\n",
      "3.1310998463702044\n",
      "in array:\n",
      "[ 0  1  2  3  4  5  6  7  8  9 10 11 12 13 14 15 16 17 18 19]\n",
      "is:\n",
      "3\n"
     ]
    }
   ],
   "source": [
    "x = np.arange(20)\n",
    "u = np.random.uniform(0,20)\n",
    "x_ij = find_closest(x, u)\n",
    "\n",
    "print(\"Closest to u:\")\n",
    "print(u)\n",
    "print( \"in array:\")\n",
    "print(x)\n",
    "print(\"is:\")\n",
    "print(x_ij)\n",
    "      \n",
    "assert(x_ij == x[int(round(u))] )"
   ]
  },
  {
   "cell_type": "markdown",
   "metadata": {},
   "source": [
    "# Warmup 2"
   ]
  },
  {
   "cell_type": "markdown",
   "metadata": {},
   "source": [
    "Write function $\\texttt{find_largest_n}$, taking as input array $x \\in \\mathbb R ^ {N}$  and integer $n < N$ and returning the $n$ largest numbers in the array. "
   ]
  },
  {
   "cell_type": "code",
   "execution_count": 6,
   "metadata": {},
   "outputs": [],
   "source": [
    "def find_largest_n(x, n):\n",
    "    return np.sort(x)[-n:][::-1]"
   ]
  },
  {
   "cell_type": "markdown",
   "metadata": {},
   "source": [
    "You can test your code by running:"
   ]
  },
  {
   "cell_type": "code",
   "execution_count": 7,
   "metadata": {},
   "outputs": [
    {
     "name": "stdout",
     "output_type": "stream",
     "text": [
      "Input:\n",
      "[ 0  1  2  3  4  5  6  7  8  9 10 11 12 13 14 15 16 17 18 19 20 21 22 23\n",
      " 24 25 26 27 28 29 30 31 32 33 34 35 36 37 38 39 40 41 42 43 44 45 46 47\n",
      " 48 49 50 51 52 53 54 55 56 57 58 59 60 61 62 63 64 65 66 67 68 69 70 71\n",
      " 72 73 74 75 76 77 78 79 80 81 82 83 84 85 86 87 88 89 90 91 92 93 94 95\n",
      " 96 97 98 99]\n",
      "largest 10\n",
      "[99 98 97 96 95 94 93 92 91 90]\n"
     ]
    }
   ],
   "source": [
    "x = np.arange(100)\n",
    "n = 10\n",
    "y = find_largest_n(x, n)\n",
    "print(\"Input:\")\n",
    "print(x)\n",
    "print (\"largest\", n)\n",
    "print(y)\n",
    "assert(np.sum(y - (90 +np.arange(10))) == 0 )"
   ]
  },
  {
   "cell_type": "markdown",
   "metadata": {},
   "source": [
    "# Basic Slicing and Indexing"
   ]
  },
  {
   "cell_type": "markdown",
   "metadata": {},
   "source": [
    "Basic slicing extends $\\texttt{Python}$’s basic concept of slicing to N dimensions. Basic slicing occurs when obj is a slice object (constructed by start:stop:step notation inside of brackets), an integer, or a tuple of slice objects and integers. Consider the following example:"
   ]
  },
  {
   "cell_type": "code",
   "execution_count": 8,
   "metadata": {},
   "outputs": [
    {
     "name": "stdout",
     "output_type": "stream",
     "text": [
      "[0 1 2 3 4 5 6 7 8 9]\n",
      "[1 3 5]\n"
     ]
    }
   ],
   "source": [
    "x = np.array([0, 1, 2, 3, 4, 5, 6, 7, 8, 9])\n",
    "y = x[1:7:2]\n",
    "print(x)\n",
    "print(y)"
   ]
  },
  {
   "cell_type": "markdown",
   "metadata": {},
   "source": [
    "Now that you know what it's all about, try implementing function $\\texttt{mirror}$ which mirrors a gray scale image $x \\in \\mathbb R ^ {N \\times N}$ along the $y$ axis? You should implement this in  1 line of code."
   ]
  },
  {
   "cell_type": "code",
   "execution_count": 9,
   "metadata": {},
   "outputs": [],
   "source": [
    "def mirror(x):\n",
    "    return x[::-1]"
   ]
  },
  {
   "cell_type": "markdown",
   "metadata": {},
   "source": [
    "Test it out by running:"
   ]
  },
  {
   "cell_type": "code",
   "execution_count": 10,
   "metadata": {},
   "outputs": [
    {
     "data": {
      "image/png": "[encoded data removed]",
      "text/plain": [
       "<Figure size 288x288 with 2 Axes>"
      ]
     },
     "metadata": {},
     "output_type": "display_data"
    },
    {
     "data": {
      "image/png": "[encoded data removed]",
      "text/plain": [
       "<Figure size 288x288 with 2 Axes>"
      ]
     },
     "metadata": {},
     "output_type": "display_data"
    }
   ],
   "source": [
    "try:\n",
    "    import matplotlib.pyplot as plt\n",
    "    %matplotlib inline  \n",
    "except:\n",
    "    print(\"You have to install matplotlib first.\")\n",
    "\n",
    "x = np.zeros((100,100))\n",
    "\n",
    "x[30:70,10:20]=1\n",
    "x[30:40,20:40]=1\n",
    "x[30:45,25:35]=1\n",
    "x[30:70,40:50]=1\n",
    "\n",
    "x[30:70,60:70]=1\n",
    "x[60:70,70:90]=1\n",
    "y = mirror(x)\n",
    "\n",
    "plt.matshow(x)\n",
    "plt.colorbar()\n",
    "plt.show()\n",
    "\n",
    "plt.matshow(y)\n",
    "plt.colorbar()\n",
    "plt.show()"
   ]
  },
  {
   "cell_type": "markdown",
   "metadata": {},
   "source": [
    "# More indexing: swapping"
   ]
  },
  {
   "cell_type": "markdown",
   "metadata": {},
   "source": [
    "Swapping two numbers is a simple operation, that can be implemented as:"
   ]
  },
  {
   "cell_type": "code",
   "execution_count": 11,
   "metadata": {},
   "outputs": [],
   "source": [
    "def swap(x,y):\n",
    "    temp = x\n",
    "    x = y\n",
    "    y = temp\n",
    "    return x,y"
   ]
  },
  {
   "cell_type": "markdown",
   "metadata": {},
   "source": [
    "Can you now write a function $\\texttt{swap_in_place}$ that swaps two numbers in place, i.e. without using a temporary variable?  My implementation is 3 lines long."
   ]
  },
  {
   "cell_type": "code",
   "execution_count": 12,
   "metadata": {},
   "outputs": [],
   "source": [
    "def swap_in_place(x,y):\n",
    "    y = y + x\n",
    "    x = y - x  # x = (y + x) - x = y\n",
    "    y = y - x  # y = (y + x) - y = x\n",
    "    return (x, y)"
   ]
  },
  {
   "cell_type": "markdown",
   "metadata": {},
   "source": [
    "To test it:"
   ]
  },
  {
   "cell_type": "code",
   "execution_count": 13,
   "metadata": {},
   "outputs": [
    {
     "name": "stdout",
     "output_type": "stream",
     "text": [
      "[10] [50]\n",
      "[50] [10]\n"
     ]
    }
   ],
   "source": [
    "x = np.array([10])\n",
    "y = np.array([50])\n",
    "x_s, y_s = swap_in_place(x,y)\n",
    "print(x,y)\n",
    "print(x_s,y_s)\n",
    "assert(x_s == y)\n",
    "assert(y_s == x)"
   ]
  },
  {
   "cell_type": "markdown",
   "metadata": {},
   "source": [
    "Now write a function that swaps two columns $(i,j)$ of a $\\texttt{numpy}$ array $x \\in \\mathbb R ^{N \\times M}$ using an temporary variable ($\\texttt{swap_cols(x,i,j)}$), and one  that does the swapping in place ($\\texttt{swap_in_place_cols(x,i,j)}$).\n",
    "What do you notice?"
   ]
  },
  {
   "cell_type": "code",
   "execution_count": 14,
   "metadata": {},
   "outputs": [],
   "source": [
    "def swap_cols(x,i,j):\n",
    "    col = np.copy(x.T[i])\n",
    "    x.T[i] = x.T[j]\n",
    "    x.T[j] = col\n",
    "    return x\n",
    "\n",
    "def swap_in_place_cols(x,i,j):\n",
    "    x.T[[i, j]] = x.T[[j, i]]\n",
    "    return x"
   ]
  },
  {
   "cell_type": "code",
   "execution_count": 15,
   "metadata": {},
   "outputs": [
    {
     "name": "stdout",
     "output_type": "stream",
     "text": [
      "Input:\n",
      "[[0.34581946 0.75852341 0.88929214]\n",
      " [0.99528122 0.858479   0.28079775]\n",
      " [0.78768839 0.68933939 0.92018321]]\n",
      "Swapped:\n",
      "[[0.75852341 0.34581946 0.88929214]\n",
      " [0.858479   0.99528122 0.28079775]\n",
      " [0.68933939 0.78768839 0.92018321]]\n",
      "Input:\n",
      "[[0.33574962 0.41291362 0.00558496]\n",
      " [0.96623114 0.12811682 0.53343432]\n",
      " [0.62893655 0.63652372 0.32615986]]\n",
      "Swapped:\n",
      "[[0.41291362 0.33574962 0.00558496]\n",
      " [0.12811682 0.96623114 0.53343432]\n",
      " [0.63652372 0.62893655 0.32615986]]\n"
     ]
    }
   ],
   "source": [
    "# doesn't work\n",
    "x = np.random.rand(3,3)\n",
    "print(\"Input:\")\n",
    "print(x)\n",
    "x = swap_cols(x,0,1)\n",
    "print(\"Swapped:\")\n",
    "print(x)\n",
    "\n",
    "# works\n",
    "x = np.random.rand(3,3)\n",
    "print(\"Input:\")\n",
    "print(x)\n",
    "print(\"Swapped:\")\n",
    "x = swap_in_place_cols(x,0,1)\n",
    "print(x)"
   ]
  },
  {
   "cell_type": "markdown",
   "metadata": {},
   "source": [
    "# Broadcasting"
   ]
  },
  {
   "cell_type": "markdown",
   "metadata": {},
   "source": [
    "The term broadcasting describes how numpy treats arrays with different shapes during arithmetic operations. Subject to certain constraints, the smaller array is “broadcast” across the larger array so that they have compatible shapes. Broadcasting provides a means of vectorizing array operations so that looping occurs in C instead of Python. It does this without making needless copies of data and usually leads to efficient algorithm implementations.\n",
    "\n",
    "https://docs.scipy.org/doc/numpy-1.15.0/user/basics.broadcasting.html\n",
    "\n",
    "Here's an example of broadcasting:"
   ]
  },
  {
   "cell_type": "code",
   "execution_count": 16,
   "metadata": {},
   "outputs": [
    {
     "name": "stdout",
     "output_type": "stream",
     "text": [
      "a shape: (3,)\n",
      "b shape: (3,)\n",
      "[0 2 4]\n",
      "a shape: (3,)\n",
      "b shape: (3, 1)\n",
      "[[0 1 2]\n",
      " [1 2 3]\n",
      " [2 3 4]]\n"
     ]
    }
   ],
   "source": [
    "a = np.arange(3)\n",
    "b = np.arange(3)\n",
    "\n",
    "print(\"a shape:\", a.shape)\n",
    "print(\"b shape:\", b.shape)\n",
    "print(a+b)\n",
    "\n",
    "a = np.arange(3)\n",
    "b = np.arange(3)[:, np.newaxis]\n",
    "\n",
    "print(\"a shape:\", a.shape)\n",
    "print(\"b shape:\", b.shape)\n",
    "print(a+b)"
   ]
  },
  {
   "cell_type": "markdown",
   "metadata": {},
   "source": [
    "Start off writing function $\\texttt{whiten}$, taking as input array $x \\in \\mathbb R ^ {N \\times M}$ and returning output array $y \\in \\mathbb R ^ {N \\times M}$  such that $\\mathbb E \\, y= 0$ and $\\text {Var} \\, y = 1$ ."
   ]
  },
  {
   "cell_type": "code",
   "execution_count": 17,
   "metadata": {},
   "outputs": [],
   "source": [
    "def whiten(x):\n",
    "    return (x - np.mean(x))/np.sqrt(np.var(x))"
   ]
  },
  {
   "cell_type": "code",
   "execution_count": 18,
   "metadata": {},
   "outputs": [
    {
     "name": "stdout",
     "output_type": "stream",
     "text": [
      "Input:\n",
      "[[-0.65589552  0.90023969]\n",
      " [ 0.773847    0.52859828]\n",
      " [ 0.79230263  0.06335762]]\n",
      "Output:\n",
      "[[-1.93462958  0.91544555]\n",
      " [ 0.68395626  0.23478108]\n",
      " [ 0.71775789 -0.61731121]]\n",
      "Mean:\n",
      "-3.700743415417188e-17\n",
      "Variance:\n",
      "0.9999999999999999\n"
     ]
    }
   ],
   "source": [
    "x = 2*np.random.rand(3,2) - 1\n",
    "y = whiten(x)\n",
    "\n",
    "print(\"Input:\")\n",
    "print(x)\n",
    "print(\"Output:\")\n",
    "print(y)\n",
    "print(\"Mean:\")\n",
    "print(np.mean(y))\n",
    "print(\"Variance:\")\n",
    "print(np.var(y))\n",
    "\n",
    "\n",
    "assert(np.abs(np.mean(y) - 0.) < 1e-6 )\n",
    "assert(np.abs(np.var(y) - 1.) < 1e-6 )"
   ]
  },
  {
   "cell_type": "markdown",
   "metadata": {},
   "source": [
    "What if you want to do the same operation columnwise this time, i.e. $\\mu _ i = \\mathbb E_j x_{i,j} = 0 \\, \\, \\forall i$? Once again, aim for one line long implementations. If you are stuck, think about broadcasting and look up the doc of $\\texttt{np.mean}$ on https://docs.scipy.org/doc/numpy-1.15.0/reference/generated/numpy.mean.html"
   ]
  },
  {
   "cell_type": "code",
   "execution_count": 19,
   "metadata": {},
   "outputs": [],
   "source": [
    "def whiten_columnwise(x):\n",
    "    return (x - np.mean(x, axis=1)[:, np.newaxis])/(np.sqrt(np.var(x, axis=1)[:, np.newaxis]))"
   ]
  },
  {
   "cell_type": "code",
   "execution_count": 20,
   "metadata": {},
   "outputs": [
    {
     "name": "stdout",
     "output_type": "stream",
     "text": [
      "Input with shape : (4, 3)\n",
      "[[ 0.31221444 -0.69733021 -0.55196265]\n",
      " [ 0.66944605  0.25070776 -0.24443053]\n",
      " [ 0.480239   -0.33230816  0.31358655]\n",
      " [ 0.52405727  0.53933025  0.83159401]]\n",
      "Input mean with shape : (4, 1)\n",
      "[[-0.31235948]\n",
      " [ 0.22524109]\n",
      " [ 0.15383913]\n",
      " [ 0.63166051]]\n",
      "Input variance with shape : (4, 1)\n",
      "[[0.19856824]\n",
      " [0.13951934]\n",
      " [0.12279843]\n",
      " [0.02002558]]\n",
      "Output with shape : (4, 3)\n",
      "[[ 1.40161568 -0.8639186  -0.53769708]\n",
      " [ 1.18923091  0.06817967 -1.25741058]\n",
      " [ 0.93143717 -1.38730341  0.45586624]\n",
      " [-0.76038371 -0.65245642  1.41284013]]\n",
      "Output mean with shape : (4, 1)\n",
      "[[-3.70074342e-17]\n",
      " [-7.40148683e-17]\n",
      " [-5.55111512e-17]\n",
      " [ 2.22044605e-16]]\n",
      "Output variance with shape : (4, 1)\n",
      "[[1.]\n",
      " [1.]\n",
      " [1.]\n",
      " [1.]]\n"
     ]
    }
   ],
   "source": [
    "x = 2*np.random.rand(4,3) - 1\n",
    "y = whiten_columnwise(x)\n",
    "\n",
    "print(\"Input with shape :\", x.shape)\n",
    "print(x)\n",
    "print(\"Input mean with shape :\", np.mean(x,axis = 1,keepdims = True).shape)\n",
    "print(np.mean(x,axis = 1,keepdims = True))\n",
    "print(\"Input variance with shape :\", np.mean(x,axis =1,keepdims = True).shape)\n",
    "print(np.var(x,axis = 1,keepdims = True))\n",
    "print(\"Output with shape :\", y.shape)\n",
    "print(y)\n",
    "print(\"Output mean with shape :\", np.mean(y,axis = 1,keepdims = True).shape)\n",
    "print(np.mean(y,axis = 1,keepdims = True))\n",
    "print(\"Output variance with shape :\", np.mean(y,1,keepdims = True).shape)\n",
    "print(np.var(y,axis = 1,keepdims = True))"
   ]
  }
 ],
 "metadata": {
  "kernelspec": {
   "display_name": "Python 3",
   "language": "python",
   "name": "python3"
  },
  "language_info": {
   "codemirror_mode": {
    "name": "ipython",
    "version": 3
   },
   "file_extension": ".py",
   "mimetype": "text/x-python",
   "name": "python",
   "nbconvert_exporter": "python",
   "pygments_lexer": "ipython3",
   "version": "3.6.5"
  }
 },
 "nbformat": 4,
 "nbformat_minor": 2
}
