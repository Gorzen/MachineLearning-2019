{
 "cells": [
  {
   "cell_type": "code",
   "execution_count": 1,
   "metadata": {},
   "outputs": [],
   "source": [
    "# imports\n",
    "import numpy as np\n",
    "import matplotlib.pyplot as plt\n",
    "from scipy.optimize import least_squares\n",
    "\n",
    "from hw10_utils import draw_ellipse, get_points_and_transformation, get_ellipse"
   ]
  },
  {
   "cell_type": "markdown",
   "metadata": {},
   "source": [
    "## Exercise 10 - Non-linear least-squares fitting\n",
    "\n",
    "In this exercise we will apply the same ideas that we have explored in class to solve a geometrical problem: to find\n",
    "a parametric description of a non-linear shape—an ellipsis—given noisy measurements of it.\n",
    "\n",
    "### Problem\n",
    "\n",
    "We want to estimate the parameters of an ellipse, given a number of points that lie approximately at its perimeter.\n",
    "\n",
    "### General approach\n",
    "- Find a transformation that maps points from ellipse to unit circle\n",
    "- Minimize euclidean distance from points to unit circle\n",
    "- Apply inverse transformation"
   ]
  },
  {
   "cell_type": "markdown",
   "metadata": {},
   "source": [
    "## Data Generation and Visualization"
   ]
  },
  {
   "cell_type": "code",
   "execution_count": 2,
   "metadata": {},
   "outputs": [
    {
     "data": {
      "image/png": "[encoded data removed]",
      "text/plain": [
       "<Figure size 432x288 with 1 Axes>"
      ]
     },
     "metadata": {
      "needs_background": "light"
     },
     "output_type": "display_data"
    }
   ],
   "source": [
    "# Plot the noisy data\n",
    "noisy_ellipse, B = get_points_and_transformation()\n",
    "plt.scatter(noisy_ellipse[:, 0], noisy_ellipse[:, 1], label='Data Points')\n",
    "\n",
    "# Plot the original ellipse from which the data was generated\n",
    "ground_truth_ellipse = get_ellipse(B)\n",
    "plt.plot(ground_truth_ellipse[:,0], ground_truth_ellipse[:,1], 'k--', label='Generating Ellipse')\n",
    "plt.legend();"
   ]
  },
  {
   "cell_type": "code",
   "execution_count": 3,
   "metadata": {},
   "outputs": [],
   "source": [
    "# Augment (x,y) to (x,y,1)\n",
    "S = noisy_ellipse.T\n",
    "S = np.vstack((S, np.ones((1,S.shape[1]))))"
   ]
  },
  {
   "cell_type": "markdown",
   "metadata": {},
   "source": [
    "## Non-linear Least Square Optimization for Ellipse Fitting"
   ]
  },
  {
   "cell_type": "markdown",
   "metadata": {},
   "source": [
    "Algebraic distance to ellipse is defined as below, however, it can not be used for non-linear least square optimization. We define Euclidean distance to ellipse and minimize geometric loss with non-linear least square optimization for regression.\n",
    "\n",
    "\\begin{align}\n",
    "\\vec{u}^{C} = [u_{i}, v_{i}, 1]^{T}\n",
    "\\end{align}\n",
    "\n",
    "\\begin{align}\n",
    "d_{a}(X,\\vec{u}^{C}) = au_{i}^2 + bu_{i}v_{i} + cv_{i}^2 + du_{i} + ev_{i} + f\n",
    "\\end{align}\n",
    "\n",
    "Affine transformation $T_{a}$ that maps data points on ellipse to unit circle is defined as;\n",
    "\n",
    "\\begin{align}\n",
    "T_{a} = \\left[ {\\begin{array}{cc}\n",
    "   t_{1} & t_{2} & t_{3} \\\\\n",
    "   t_{4} & t_{5} & t_{6} \\\\\n",
    "   0 & 0 & 1 \\\\\n",
    "  \\end{array} } \\right]\n",
    "\\end{align}\n",
    "\n",
    "Our model parameters,  $X = [t_{1}, t_{2}, t_{3}, t_{4}, t_{5}, t_{6}]$ and we optimize over these parameters to find transformation $T_{a}$ and finally fitting ellipse.\n",
    "\n",
    "Data point $\\vec{u}$ is defined is as follows;\n",
    "\\begin{align}\n",
    "\\vec{u} = [x, y, 1]^{T}\n",
    "\\end{align}\n",
    "\n",
    "\\begin{align}\n",
    "\\vec{u}_{a} = T_{a}^{-1}\\vec{u} = [u_{a}, v_{a}, 1]\n",
    "\\end{align}\n",
    "\n",
    "\\begin{align}\n",
    "\\vec{u}_{a}^{C} = [u_{a}, v_{a}, \\sqrt{u_{a}^2 + v_{a}^2}]\n",
    "\\end{align}\n",
    "\n",
    "We define;\n",
    "\\begin{align}\n",
    "C = \\sqrt{u_{a}^2 + v_{a}^2} = \\sqrt{(t_{1}x + t_{2}y + t_{3})^2 + (t_{4}x + t_{5}y + t_{6})^2}\n",
    "\\end{align}\n",
    "\n",
    "Euclidean distance to ellipse is as follows;\n",
    "\\begin{align}\n",
    "d_{e}(X,\\vec{u}_{a}) = d_{e}(\\vec{u}_{a}^{C}, \\vec{u}_{a}) = \\sqrt{u_{a}^2 + v_{a}^2} - 1 = C - 1\n",
    "\\end{align}\n",
    "\n",
    "Jacobian, $J$, for model parameters $X$ is defined as follows;\n",
    "\n",
    "\\begin{align}\n",
    "J = \\left[ {\\begin{array}{cc}\n",
    "   \\frac{\\partial d_{e}(X,{}_{1}\\vec{u}_{a})}{\\partial t_{1}} & \\frac{\\partial d_{e}(X,{}_{1}\\vec{u}_{a})}{\\partial t_{2}} & ... & \\frac{\\partial d_{e}(X,{}_{1}\\vec{u}_{a})}{\\partial t_{6}} \\\\\n",
    "   \\frac{\\partial d_{e}(X,{}_{2}\\vec{u}_{a})}{\\partial t_{1}} & \\frac{\\partial d_{e}(X,{}_{2}\\vec{u}_{a})}{\\partial t_{2}} & ... & \\frac{\\partial d_{e}(X,{}_{2}\\vec{u}_{a})}{\\partial t_{6}} \\\\\n",
    "   . & . & ... & . \\\\\n",
    "   \\frac{\\partial d_{e}(X,{}_{n}\\vec{u}_{a})}{\\partial t_{1}} & \\frac{\\partial d_{e}(X,{}_{n}\\vec{u}_{a})}{\\partial t_{2}} & ... & \\frac{\\partial d_{e}(X,{}_{n}\\vec{u}_{a})}{\\partial t_{6}} \\\\\n",
    "  \\end{array} } \\right]_{N x 6}\n",
    "\\end{align}\n",
    "\n",
    "\\begin{align}\n",
    "\\frac{\\partial d_{e}(X,{}_{1}\\vec{u}_{a})}{\\partial X} = \\frac{\\partial C_{1}}{\\partial X} \n",
    "\\end{align}\n",
    "\n",
    "\\begin{align}\n",
    "\\frac{\\partial C_{1}}{\\partial t_{1}} =\\frac{1}{C_{1}} (t_{1}x + t_{2}y + t_{3}) x\n",
    "\\end{align}\n",
    "\n",
    "\\begin{align}\n",
    "\\frac{\\partial C_{1}}{\\partial t_{2}} =\\frac{1}{C_{1}} (t_{1}x + t_{2}y + t_{3}) y\n",
    "\\end{align}"
   ]
  },
  {
   "cell_type": "code",
   "execution_count": 47,
   "metadata": {
    "scrolled": true
   },
   "outputs": [],
   "source": [
    "# S = (3, N)\n",
    "# Ta = (6,)\n",
    "def calculate_C(Ta, S):\n",
    "    \"\"\"compute scale parameter C, defined as above, of data points\"\"\"\n",
    "    Ta = Ta.reshape((2,3))\n",
    "    Ta = np.vstack((Ta, np.array([0, 0, 1])))\n",
    "    \"\"\"\n",
    "    Please fill in the required code here\n",
    "    \"\"\"\n",
    "    U = (np.linalg.inv(Ta) @ S).T\n",
    "    C = np.sqrt(np.sum(np.square(U[:,:2]), axis=1))\n",
    "    return C\n",
    "\n",
    "# return residual = (N, )\n",
    "def calculate_residual(Ta, S):\n",
    "    \"\"\"compute euclidean distance to unit cirle using calculate_C function\"\"\"\n",
    "    \n",
    "    \"\"\"\n",
    "    Please fill in the required code here\n",
    "    \"\"\"\n",
    "    residual = calculate_C(Ta, S) - 1\n",
    "    return residual\n",
    "\n",
    "# return J = (N, 6)\n",
    "def calculate_jacobian(Ta, S):\n",
    "    \"\"\"compute jacobian of residuals \"\"\"\n",
    "    C = calculate_C(Ta, S)\n",
    "    Ta = np.vstack((Ta.reshape((2,3)),np.array([0,0,1])))\n",
    "    \n",
    "    \"\"\"\n",
    "    Please fill in the required code here for Jacobian Matrix, J\n",
    "    \"\"\"\n",
    "    J = (S[0] * Ta[0, 0] + S[1] * Ta[0, 1] + Ta[0, 2]) * S[0] / C\n",
    "    \n",
    "    J = np.vstack((J, (S[0] * Ta[0, 0] + S[1] * Ta[0, 1] + Ta[0, 2]) * S[1] / C))\n",
    "    \n",
    "    J = np.vstack((J, (S[0] * Ta[0, 0] + S[1] * Ta[0, 1] + Ta[0, 2]) / C))\n",
    "    \n",
    "    J = np.vstack((J, (S[0] * Ta[1, 0] + S[1] * Ta[1, 1] + Ta[1, 2]) * S[0] / C))\n",
    "    \n",
    "    J = np.vstack((J, (S[0] * Ta[1, 0] + S[1] * Ta[1, 1] + Ta[1, 2]) * S[1] / C))\n",
    "    \n",
    "    J = np.vstack((J, (S[0] * Ta[1, 0] + S[1] * Ta[1, 1] + Ta[1, 2]) / C))\n",
    "    \n",
    "    return J.T\n"
   ]
  },
  {
   "cell_type": "markdown",
   "metadata": {},
   "source": [
    "## 1. Levenberg-Marquardt Method"
   ]
  },
  {
   "cell_type": "markdown",
   "metadata": {},
   "source": [
    "Using scipy.least_square for non-linear optimation with defined residual and jacobian functions"
   ]
  },
  {
   "cell_type": "code",
   "execution_count": 48,
   "metadata": {},
   "outputs": [
    {
     "name": "stdout",
     "output_type": "stream",
     "text": [
      "[[0. 1. 2.]\n",
      " [3. 4. 5.]\n",
      " [0. 0. 1.]]\n"
     ]
    }
   ],
   "source": [
    "x0 = np.arange(6)\n",
    "x1 = least_squares(calculate_residual, x0, calculate_jacobian, args=([S]))\n",
    "Ta = np.vstack(((x1.x).reshape(2,3), np.array([0,0,1])))\n",
    "print(Ta)"
   ]
  },
  {
   "cell_type": "code",
   "execution_count": 49,
   "metadata": {},
   "outputs": [
    {
     "data": {
      "image/png": "[encoded data removed]",
      "text/plain": [
       "<Figure size 432x288 with 1 Axes>"
      ]
     },
     "metadata": {
      "needs_background": "light"
     },
     "output_type": "display_data"
    }
   ],
   "source": [
    "draw_ellipse(S, Ta)"
   ]
  },
  {
   "cell_type": "markdown",
   "metadata": {},
   "source": [
    "Implement Levenberg-Marquardt optimization step using calculate_residual and calculate_jacobian functions\n",
    "\n",
    "\\begin{align}\n",
    "F(X) = [d_{e}(X,{}_{1}\\vec{u}_{a}), d_{e}(X,{}_{2}\\vec{u}_{a}), ..., d_{e}(X,{}_{n}\\vec{u}_{a})]\n",
    "\\end{align}\n",
    "\n",
    "\\begin{align}\n",
    "(J^TJ+\\lambda I)dX &= -J^TF(X)\n",
    "\\end{align}"
   ]
  },
  {
   "cell_type": "code",
   "execution_count": 50,
   "metadata": {},
   "outputs": [],
   "source": [
    "def norm(v):\n",
    "    \"\"\"implement L1 norm\"\"\"\n",
    "    return np.sum(np.abs(v))\n",
    "    \n",
    "def compute_LVMstep(X, S, lmbda):\n",
    "    \"\"\"implement Levenberg-Marquardt optimization step\"\"\"\n",
    "    J = calculate_jacobian(X, S)\n",
    "    \n",
    "    F_x = calculate_residual(X, S)\n",
    "    \n",
    "    norm_F_x = norm(F_x)\n",
    "    \n",
    "    while True:\n",
    "        inv = np.linalg.inv(J.T @ J + lmbda * np.eye(J.shape[1]))\n",
    "        snd = J.T @ F_x\n",
    "        dX = - inv @ snd\n",
    "        \n",
    "        if norm(calculate_residual(X + dX, S)) > norm_F_x:\n",
    "            lmbda *= 10\n",
    "        else:\n",
    "            return (X + dX, lmbda / 10)\n",
    "    \n",
    "\n",
    "def fit_LVM(X, S):\n",
    "    lmbda = 0.001\n",
    "    \n",
    "    for i in range(100):\n",
    "        update = compute_LVMstep(X, S, lmbda)\n",
    "        if update is not None:\n",
    "            X = X + update[0]\n",
    "            lmbda = update[1]\n",
    "        else:\n",
    "            print(\"Optimization converged\")\n",
    "            return X\n",
    "    return X"
   ]
  },
  {
   "cell_type": "code",
   "execution_count": 51,
   "metadata": {},
   "outputs": [],
   "source": [
    "x2 = fit_LVM(x0, S)"
   ]
  },
  {
   "cell_type": "code",
   "execution_count": 52,
   "metadata": {},
   "outputs": [
    {
     "name": "stdout",
     "output_type": "stream",
     "text": [
      "[[2.72698912e+30 9.69533632e+29 1.22912651e+30]\n",
      " [3.33479869e+30 5.26475531e+30 6.17026416e+30]\n",
      " [0.00000000e+00 0.00000000e+00 1.00000000e+00]]\n"
     ]
    }
   ],
   "source": [
    "Ta = np.vstack((x2.reshape(2,3), np.array([0,0,1])))\n",
    "print(Ta)"
   ]
  },
  {
   "cell_type": "code",
   "execution_count": 53,
   "metadata": {},
   "outputs": [
    {
     "data": {
      "image/png": "[encoded data removed]",
      "text/plain": [
       "<Figure size 432x288 with 1 Axes>"
      ]
     },
     "metadata": {
      "needs_background": "light"
     },
     "output_type": "display_data"
    }
   ],
   "source": [
    "draw_ellipse(S, Ta)"
   ]
  },
  {
   "cell_type": "markdown",
   "metadata": {},
   "source": [
    "## 2. Gradient Descent"
   ]
  },
  {
   "cell_type": "markdown",
   "metadata": {},
   "source": [
    "The gradient descent optimization algorithm uses the residuals at each timestep's prediction to compute a new, better estimate of the parameters.\n",
    "\n",
    "The residuals, in this problem, are given by the squared euclidean distances between the data points and points lying on the actual ellipse that we want to find:\n",
    "\n",
    "$$\n",
    "\\mathbf{F}(\\mathbf{X}) = \\sum_i d(x_i, \\mathbf{X})^2\n",
    "$$\n",
    "\n",
    "The Gradient Descent algorithm estimates via partial derivatives how those residuals change. The gradient is given by:\n",
    "\n",
    "$$\n",
    "\\nabla \\mathbf{F}(\\mathbf{X}) =\n",
    "\\left[\n",
    "\\begin{matrix} \n",
    "\\frac {\\partial \\mathbf{F}} {\\partial X_1} \n",
    "\\ldots\n",
    "\\frac {\\partial \\mathbf{F}} {\\partial X_n}\n",
    "\\end{matrix}\n",
    "\\right]\n",
    "$$\n",
    "\n",
    "The update rule is hence simply taking a small step, given by a learning rate $\\lambda$, in the opposite direction of the gradient, or\n",
    "\n",
    "$$\n",
    "\\mathbf{X}^{t+1} = \\mathbf{X}^{t} - \\lambda \\nabla \\mathbf{F}(\\mathbf{X^t})\n",
    "$$"
   ]
  },
  {
   "cell_type": "code",
   "execution_count": 11,
   "metadata": {},
   "outputs": [],
   "source": [
    "def calculate_gradient(Ta, S):\n",
    "    \"\"\"compute gradient for MSE of residuals, d, using calculate_residual and calculate_jacobian\"\"\"\n",
    "    d = calculate_residual(Ta, S) \n",
    "    J = calculate_jacobian(Ta, S)\n",
    "\n",
    "    \"\"\"\n",
    "    Please fill in the required code here\n",
    "    \"\"\"\n",
    "    return grad\n",
    "\n",
    "\n",
    "def fit_GD(Ta, S):\n",
    "    \"\"\"\n",
    "    Find the transformation Ta that produces the best fit for the samples S,\n",
    "    using the Gradient Descent algorithm.\n",
    "    \"\"\"\n",
    "    lmbda = 0.0002\n",
    "    \n",
    "    for i in range(100):\n",
    "        grad = calculate_gradient(Ta, S)\n",
    "        \"\"\"\n",
    "        Please fill in the required code here for gradient descent parameter update\n",
    "        \"\"\"\n",
    "        \n",
    "        if i % 10 == 1:\n",
    "            print(\"Loss: \", np.sum(calculate_residual(Ta, S)**2))\n",
    "    return Ta"
   ]
  },
  {
   "cell_type": "code",
   "execution_count": 12,
   "metadata": {},
   "outputs": [
    {
     "ename": "NameError",
     "evalue": "name 'fit_SGD' is not defined",
     "output_type": "error",
     "traceback": [
      "\u001b[0;31m---------------------------------------------------------------------------\u001b[0m",
      "\u001b[0;31mNameError\u001b[0m                                 Traceback (most recent call last)",
      "\u001b[0;32m<ipython-input-12-d9d98d7a3a3c>\u001b[0m in \u001b[0;36m<module>\u001b[0;34m\u001b[0m\n\u001b[1;32m      1\u001b[0m \u001b[0mx0\u001b[0m \u001b[0;34m=\u001b[0m \u001b[0mnp\u001b[0m\u001b[0;34m.\u001b[0m\u001b[0mrandom\u001b[0m\u001b[0;34m.\u001b[0m\u001b[0muniform\u001b[0m\u001b[0;34m(\u001b[0m\u001b[0;36m0\u001b[0m\u001b[0;34m,\u001b[0m\u001b[0;36m1\u001b[0m\u001b[0;34m,\u001b[0m\u001b[0;36m6\u001b[0m\u001b[0;34m)\u001b[0m\u001b[0;34m\u001b[0m\u001b[0;34m\u001b[0m\u001b[0m\n\u001b[0;32m----> 2\u001b[0;31m \u001b[0mx3\u001b[0m \u001b[0;34m=\u001b[0m \u001b[0mfit_SGD\u001b[0m\u001b[0;34m(\u001b[0m\u001b[0mx0\u001b[0m\u001b[0;34m,\u001b[0m \u001b[0mS\u001b[0m\u001b[0;34m)\u001b[0m\u001b[0;34m\u001b[0m\u001b[0;34m\u001b[0m\u001b[0m\n\u001b[0m",
      "\u001b[0;31mNameError\u001b[0m: name 'fit_SGD' is not defined"
     ]
    }
   ],
   "source": [
    "x0 = np.random.uniform(0,1,6) \n",
    "x3 = fit_SGD(x0, S)"
   ]
  },
  {
   "cell_type": "code",
   "execution_count": null,
   "metadata": {},
   "outputs": [],
   "source": [
    "Ta = np.vstack((x3.reshape(2,3), np.array([0,0,1])))\n",
    "print(Ta)"
   ]
  },
  {
   "cell_type": "code",
   "execution_count": null,
   "metadata": {},
   "outputs": [],
   "source": [
    "draw_ellipse(S, Ta)"
   ]
  },
  {
   "cell_type": "code",
   "execution_count": null,
   "metadata": {},
   "outputs": [],
   "source": []
  }
 ],
 "metadata": {
  "kernelspec": {
   "display_name": "Python 3",
   "language": "python",
   "name": "python3"
  },
  "language_info": {
   "codemirror_mode": {
    "name": "ipython",
    "version": 3
   },
   "file_extension": ".py",
   "mimetype": "text/x-python",
   "name": "python",
   "nbconvert_exporter": "python",
   "pygments_lexer": "ipython3",
   "version": "3.7.3"
  }
 },
 "nbformat": 4,
 "nbformat_minor": 2
}
